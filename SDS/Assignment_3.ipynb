{
  "nbformat": 4,
  "nbformat_minor": 0,
  "metadata": {
    "colab": {
      "provenance": []
    },
    "kernelspec": {
      "name": "python3",
      "display_name": "Python 3"
    },
    "language_info": {
      "name": "python"
    }
  },
  "cells": [
    {
      "cell_type": "markdown",
      "source": [
        "**Task 1: Confidence Interval for Proportion of Married People**"
      ],
      "metadata": {
        "id": "cXOPn3rHLXBz"
      }
    },
    {
      "cell_type": "code",
      "source": [
        "import pandas as pd\n",
        "import numpy as np\n",
        "from scipy.stats import norm\n",
        "data = pd.read_csv(\"income.csv\")\n",
        "\n",
        "married_proportion = data['Married'].mean()\n",
        "\n",
        "confidence_level = 0.95\n",
        "z_score = norm.ppf((1 + confidence_level) / 2)\n",
        "\n",
        "standard_error = np.sqrt((married_proportion * (1 - married_proportion)) / len(data))\n",
        "margin_of_error = z_score * standard_error\n",
        "\n",
        "confidence_interval = (married_proportion - margin_of_error, married_proportion + margin_of_error)\n",
        "\n",
        "print(\"Confidence Interval for Proportion of Married People (95%):\", confidence_interval)\n"
      ],
      "metadata": {
        "colab": {
          "base_uri": "https://localhost:8080/"
        },
        "id": "VyTKM1XoLceU",
        "outputId": "1ed60ba8-5f14-4b75-eac7-07ea356a6003"
      },
      "execution_count": 29,
      "outputs": [
        {
          "output_type": "stream",
          "name": "stdout",
          "text": [
            "Confidence Interval for Proportion of Married People (95%): (0.5800943369527274, 0.6795741713345653)\n"
          ]
        }
      ]
    },
    {
      "cell_type": "markdown",
      "source": [
        "**Task 2: Confidence Intervals for the Mean Scores of Two Groups**"
      ],
      "metadata": {
        "id": "2oRu_rAUMSjB"
      }
    },
    {
      "cell_type": "code",
      "source": [
        "import numpy as np\n",
        "from scipy import stats\n",
        "\n",
        "group_a_scores = [85, 92, 78, 88, 76]\n",
        "group_b_scores = [90, 85, 89, 78, 92]\n",
        "\n",
        "mean_a = np.mean(group_a_scores)\n",
        "mean_b = np.mean(group_b_scores)\n",
        "std_error_a = np.std(group_a_scores, ddof=1) / np.sqrt(len(group_a_scores))\n",
        "std_error_b = np.std(group_b_scores, ddof=1) / np.sqrt(len(group_b_scores))\n",
        "\n",
        "confidence_level = 0.95\n",
        "t_critical = stats.t.ppf((1 + confidence_level) / 2, df=min(len(group_a_scores) - 1, len(group_b_scores) - 1))\n",
        "\n",
        "conf_int_a = (mean_a - t_critical * std_error_a, mean_a + t_critical * std_error_a)\n",
        "conf_int_b = (mean_b - t_critical * std_error_b, mean_b + t_critical * std_error_b)\n",
        "\n",
        "print(\"Confidence Interval for Group A Mean Score (95%):\", conf_int_a)\n",
        "print(\"Confidence Interval for Group B Mean Score (95%):\", conf_int_b)\n"
      ],
      "metadata": {
        "colab": {
          "base_uri": "https://localhost:8080/"
        },
        "id": "iBRZH9h3MVRk",
        "outputId": "f7484d21-a2ee-4ddd-c45a-d79f2b25e20e"
      },
      "execution_count": 28,
      "outputs": [
        {
          "output_type": "stream",
          "name": "stdout",
          "text": [
            "Confidence Interval for Group A Mean Score (95%): (75.45217557105575, 92.14782442894425)\n",
            "Confidence Interval for Group B Mean Score (95%): (79.9202401806338, 93.6797598193662)\n"
          ]
        }
      ]
    },
    {
      "cell_type": "markdown",
      "source": [
        "**Task 3: Confidence Interval for the Average Difference Between Income and Loan Amount**"
      ],
      "metadata": {
        "id": "M3wacKK0MfWc"
      }
    },
    {
      "cell_type": "code",
      "source": [
        "import pandas as pd\n",
        "import numpy as np\n",
        "from scipy.stats import t\n",
        "\n",
        "data = pd.read_csv(\"income.csv\")\n",
        "\n",
        "data['Difference'] = data['CoapplicantIncome'] - data['LoanAmount']\n",
        "\n",
        "mean_difference = data['Difference'].mean()\n",
        "std_error = data['Difference'].std() / np.sqrt(len(data))\n",
        "\n",
        "confidence_level = 0.95\n",
        "\n",
        "t_critical = t.ppf((1 + confidence_level) / 2, df=len(data) - 1)\n",
        "\n",
        "margin_of_error = t_critical * std_error\n",
        "confidence_interval = (mean_difference - margin_of_error, mean_difference + margin_of_error)\n",
        "\n",
        "print(\"Confidence Interval for Average Difference Between Income and Loan Amount (95%):\", confidence_interval)\n"
      ],
      "metadata": {
        "colab": {
          "base_uri": "https://localhost:8080/"
        },
        "id": "Zl7kigy6Mk-Z",
        "outputId": "45135f6e-3302-4b33-f241-be053c126cd1"
      },
      "execution_count": 27,
      "outputs": [
        {
          "output_type": "stream",
          "name": "stdout",
          "text": [
            "Confidence Interval for Average Difference Between Income and Loan Amount (95%): (1192.010988637167, 1673.745917440181)\n"
          ]
        }
      ]
    },
    {
      "cell_type": "markdown",
      "source": [
        "**Task 4: Plotting Confidence Intervals for Different Scale Values**"
      ],
      "metadata": {
        "id": "A5Xr-5q-NToy"
      }
    },
    {
      "cell_type": "code",
      "source": [
        "import numpy as np\n",
        "import matplotlib.pyplot as plt\n",
        "\n",
        "np.random.seed(0)\n",
        "data = np.random.normal(0, [0.1, 0.5, 1.0, 2.0, 5.0], (100, 5))\n",
        "\n",
        "\n",
        "confidence_level = 0.95\n",
        "\n",
        "conf_intervals = []\n",
        "for i in range(5):\n",
        "    std_error = np.std(data[:, i], ddof=1) / np.sqrt(len(data))\n",
        "    t_critical = stats.t.ppf((1 + confidence_level) / 2, df=len(data) - 1)\n",
        "    margin_of_error = t_critical * std_error\n",
        "    conf_interval = (np.mean(data[:, i]) - margin_of_error, np.mean(data[:, i]) + margin_of_error)\n",
        "    conf_intervals.append(conf_interval)\n",
        "\n",
        "plt.figure(figsize=(8, 6))\n",
        "for i in range(5):\n",
        "    plt.errorbar(i, np.mean(data[:, i]), yerr=(conf_intervals[i][1] - np.mean(data[:, i])), fmt='o', label=f\"Scale {i+1}\")\n",
        "plt.xlabel(\"Data Column\")\n",
        "plt.ylabel(\"Mean\")\n",
        "plt.title(\"Confidence Intervals vs. Scale Values\")\n",
        "plt.xticks(range(5), [f\"Column {i+1}\" for i in range(5)])\n",
        "plt.legend()\n",
        "plt.show()\n"
      ],
      "metadata": {
        "colab": {
          "base_uri": "https://localhost:8080/",
          "height": 564
        },
        "id": "uhn-lU8nNaZE",
        "outputId": "99f4c4a6-adbe-487f-81c6-3e1396eb0841"
      },
      "execution_count": 26,
      "outputs": [
        {
          "output_type": "display_data",
          "data": {
            "text/plain": [
              "<Figure size 800x600 with 1 Axes>"
            ],
            "image/png": "[encoded data removed]"
          },
          "metadata": {}
        }
      ]
    },
    {
      "cell_type": "markdown",
      "source": [
        "**Task 5: Testing the Significance of the Difference in CTR**"
      ],
      "metadata": {
        "id": "msQg-JclNgDR"
      }
    },
    {
      "cell_type": "code",
      "source": [
        "from scipy import stats\n",
        "\n",
        "group_a_ctr = [0.12, 0.15, 0.09, 0.18, 0.21, 0.14, 0.11, 0.13, 0.17, 0.16]\n",
        "group_b_ctr = [0.14, 0.16, 0.20, 0.19, 0.13, 0.22, 0.15, 0.18, 0.21, 0.17]\n",
        "\n",
        "t_stat, p_value = stats.ttest_ind(group_a_ctr, group_b_ctr)\n",
        "\n",
        "alpha = 0.05\n",
        "\n",
        "if p_value < alpha:\n",
        "    print(\"The difference in CTR between the two subject lines is statistically significant.\")\n",
        "else:\n",
        "    print(\"There is no statistically significant difference in CTR between the two subject lines.\")\n"
      ],
      "metadata": {
        "colab": {
          "base_uri": "https://localhost:8080/"
        },
        "id": "WUNMWodFNldH",
        "outputId": "d0bc5000-90fc-4191-a6b7-33b7af358de4"
      },
      "execution_count": 25,
      "outputs": [
        {
          "output_type": "stream",
          "name": "stdout",
          "text": [
            "There is no statistically significant difference in CTR between the two subject lines.\n"
          ]
        }
      ]
    }
  ]
}